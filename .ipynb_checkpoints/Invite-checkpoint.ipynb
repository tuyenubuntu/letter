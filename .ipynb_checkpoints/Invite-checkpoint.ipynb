{
 "cells": [
  {
   "cell_type": "code",
   "execution_count": null,
   "id": "26b70851",
   "metadata": {},
   "outputs": [],
   "source": [
    "import pandas as pd\n",
    "import os\n",
    "import pandas as pd\n",
    "import openpyxl\n",
    "from openpyxl import Workbook, load_workbook\n",
    "from PIL import Image, ImageFont, ImageDraw,  ImageOps\n",
    "f1 = 'mse3.xlsx'\n",
    "df = pd.read_excel(f1, sheet_name=0)\n",
    "msnv = list(df['MSNV'])\n",
    "name = list(df['Họ & Tên'])\n",
    "gp = list(df['Group'])"
   ]
  },
  {
   "cell_type": "code",
   "execution_count": null,
   "id": "70d171d7",
   "metadata": {},
   "outputs": [],
   "source": [
    "src = 'sample.png'"
   ]
  },
  {
   "cell_type": "code",
   "execution_count": null,
   "id": "bf294135",
   "metadata": {},
   "outputs": [],
   "source": [
    "#function fill in formation\n",
    "def draw (src):\n",
    "    for i in range(len (name)):\n",
    "        img = Image.open(src)\n",
    "        title_font = ImageFont.truetype('Playfair_Display\\PlayfairDisplay-Italic-VariableFont_wght.ttf',60)\n",
    "        image_editable = ImageDraw.Draw(img)\n",
    "        \n",
    "        # Information ticket\n",
    "        \n",
    "        #fill in part1 ticket\n",
    "        namex = '{}'.format(name[i])\n",
    "        image_editable.text((800,170), namex, (0, 0, 0), font=title_font)\n",
    "        msnvx = '{}'.format(msnv[i])\n",
    "        image_editable.text((1600,600), msnvx, (0, 0, 0), font=title_font)\n",
    "        #depx = gp[i]\n",
    "        #image_editable.text((105,800), depx, (255, 255, 255), font=title_font)\n",
    "        \n",
    "        #fill in part2 ticket\n",
    "        \n",
    "        width, height = 700,100\n",
    "        font =  ImageFont.truetype('Playfair_Display\\PlayfairDisplay-Italic-VariableFont_wght.ttf',60)\n",
    "        #fill info name rotate 90\n",
    "        image1 = Image.new('RGBA', (width, height), (255, 255, 255, 1))\n",
    "        draw1 = ImageDraw.Draw(image1)\n",
    "        draw1.text((0, 0), text='{}'.format(name[i]), font=font, fill=(0, 0, 0))\n",
    "        image1 = image1.rotate(270, expand=1)\n",
    "        if 20 > len(name[i]) > 15:\n",
    "            px1, py1 = 2250, 180\n",
    "        elif len(name[i]) >= 20:\n",
    "            px1, py1 = 2250, 100\n",
    "        elif 10 < len(name[i]) <= 20:\n",
    "            px1, py1 = 2250, 210\n",
    "        elif 7 < len(name[i]) <= 10:\n",
    "            px1, py1 = 2250, 280\n",
    "        elif len(name[i]) <= 7:\n",
    "            px1, py1 = 2250, 300\n",
    "        sx1, sy1 = image1.size\n",
    "        img.paste(image1, (px1, py1, px1 + sx1, py1 + sy1), image1) \n",
    "        #fill info code ticket 90    \n",
    "        image2 = Image.new('RGBA', (width, height), (255, 255, 255, 1))\n",
    "        draw2 = ImageDraw.Draw(image2)\n",
    "        draw2.text((0, 0), text='{}'.format(msnv[i]), font=font, fill=(0, 0, 0))\n",
    "        image2 = image2.rotate(270, expand=1)\n",
    "        px2, py2 = 2140, 503\n",
    "        sx2, sy2 = image2.size\n",
    "        img.paste(image2, (px2, py2, px2 + sx2, py2 + sy2), image2)\n",
    "         \n",
    "        #note  ticket\n",
    "        \n",
    "        #note part1\n",
    "        title_font_note = ImageFont.truetype('Playfair_Display\\PlayfairDisplay-Italic-VariableFont_wght.ttf',30)\n",
    "        note = 'Vui lòng giữ lại phần phiếu này để xác thực khi nhận thưởng.'\n",
    "        image_editable.text((200,50), note, (0, 0, 0), font=title_font_note)\n",
    "        #note part2\n",
    "        image3 = Image.new('RGBA', (width, height), (255, 255, 255, 1))\n",
    "        draw3 = ImageDraw.Draw(image3)\n",
    "        draw3.text((0, 0), text='Phần phiếu này bỏ vào thùng.', font=title_font_note, fill=(0, 0, 0))\n",
    "        image3 = image3.rotate(270, expand=1)\n",
    "        px3, py3 = 2000, 250\n",
    "        sx3, sy3 = image3.size\n",
    "        img.paste(image3, (px3, py3, px3 + sx3, py3 + sy3), image3)\n",
    "                        \n",
    "        #img.show()\n",
    "        img.save(\"pic\\{}.png\".format(i))"
   ]
  },
  {
   "cell_type": "code",
   "execution_count": null,
   "id": "4f2b167e",
   "metadata": {},
   "outputs": [],
   "source": [
    "#tempory function\n",
    "\n",
    "def draw (src):\n",
    "    for i in range(len (msnv)):\n",
    "\n",
    "        img = Image.open(src)\n",
    "        title_font = ImageFont.truetype('Playfair_Display\\PlayfairDisplay-Italic-VariableFont_wght.ttf',60)\n",
    "        image_editable = ImageDraw.Draw(img)\n",
    "        \n",
    "        namex = '{}'.format(name[i])\n",
    "        image_editable.text((800,170), namex, (0, 0, 0), font=title_font)\n",
    "        msnvx = '{}'.format(msnv[i])\n",
    "        image_editable.text((1600,600), msnvx, (0, 0, 0), font=title_font)\n",
    "        #depx = gp[i]\n",
    "        #image_editable.text((105,800), depx, (255, 255, 255), font=title_font)\n",
    "        \n",
    "        \n",
    "        width, height = 700,100\n",
    "        font =  ImageFont.truetype('Playfair_Display\\PlayfairDisplay-Italic-VariableFont_wght.ttf',60)\n",
    "        image1 = Image.new('RGBA', (width, height), (255, 255, 255, 1))\n",
    "        draw1 = ImageDraw.Draw(image1)\n",
    "        draw1.text((0, 0), text='{}'.format(name[i]), font=font, fill=(0, 0, 0))\n",
    "        image1 = image1.rotate(270, expand=1)\n",
    "        px1, py1 = 2250, 100\n",
    "        sx1, sy1 = image1.size\n",
    "        img.paste(image1, (px1, py1, px1 + sx1, py1 + sy1), image1)\n",
    "        \n",
    "        \n",
    "        image2 = Image.new('RGBA', (width, height), (255, 255, 255, 1))\n",
    "        draw2 = ImageDraw.Draw(image2)\n",
    "        draw2.text((0, 0), text='{}'.format(msnv[i]), font=font, fill=(0, 0, 0))\n",
    "        image2 = image2.rotate(270, expand=1)\n",
    "        px2, py2 = 2140, 503\n",
    "        sx2, sy2 = image2.size\n",
    "        img.paste(image2, (px2, py2, px2 + sx2, py2 + sy2), image2)\n",
    "        \n",
    "        \n",
    "        #img.show()\n",
    "        img.save(\"pic\\{}.jpg\".format(i))"
   ]
  },
  {
   "cell_type": "code",
   "execution_count": null,
   "id": "544fba2d",
   "metadata": {},
   "outputs": [],
   "source": [
    "#run function\n",
    "draw(src)"
   ]
  },
  {
   "cell_type": "code",
   "execution_count": 1,
   "id": "597361ed",
   "metadata": {},
   "outputs": [
    {
     "name": "stdout",
     "output_type": "stream",
     "text": [
      "['0.png', '1.png', '10.png', '100.png', '101.png', '102.png', '103.png', '104.png', '105.png', '106.png', '107.png', '108.png', '109.png', '11.png', '110.png', '111.png', '112.png', '113.png', '114.png', '115.png', '116.png', '117.png', '118.png', '119.png', '12.png', '120.png', '121.png', '122.png', '123.png', '124.png', '125.png', '126.png', '127.png', '128.png', '129.png', '13.png', '130.png', '131.png', '132.png', '133.png', '134.png', '135.png', '136.png', '137.png', '138.png', '139.png', '14.png', '140.png', '141.png', '142.png', '143.png', '144.png', '145.png', '146.png', '147.png', '148.png', '149.png', '15.png', '150.png', '151.png', '152.png', '153.png', '154.png', '155.png', '156.png', '157.png', '158.png', '159.png', '16.png', '160.png', '161.png', '162.png', '163.png', '164.png', '165.png', '166.png', '167.png', '168.png', '169.png', '17.png', '170.png', '171.png', '172.png', '173.png', '174.png', '175.png', '176.png', '177.png', '178.png', '179.png', '18.png', '180.png', '181.png', '182.png', '183.png', '184.png', '185.png', '186.png', '187.png', '188.png', '189.png', '19.png', '190.png', '191.png', '192.png', '193.png', '194.png', '195.png', '196.png', '197.png', '198.png', '199.png', '2.png', '20.png', '200.png', '201.png', '202.png', '203.png', '204.png', '205.png', '206.png', '207.png', '208.png', '209.png', '21.png', '210.png', '22.png', '23.png', '24.png', '25.png', '26.png', '27.png', '28.png', '29.png', '3.png', '30.png', '31.png', '32.png', '33.png', '34.png', '35.png', '36.png', '37.png', '38.png', '39.png', '4.png', '40.png', '41.png', '42.png', '43.png', '44.png', '45.png', '46.png', '47.png', '48.png', '49.png', '5.png', '50.png', '51.png', '52.png', '53.png', '54.png', '55.png', '56.png', '57.png', '58.png', '59.png', '6.png', '60.png', '61.png', '62.png', '63.png', '64.png', '65.png', '66.png', '67.png', '68.png', '69.png', '7.png', '70.png', '71.png', '72.png', '73.png', '74.png', '75.png', '76.png', '77.png', '78.png', '79.png', '8.png', '80.png', '81.png', '82.png', '83.png', '84.png', '85.png', '86.png', '87.png', '88.png', '89.png', '9.png', '90.png', '91.png', '92.png', '93.png', '94.png', '95.png', '96.png', '97.png', '98.png', '99.png']\n"
     ]
    }
   ],
   "source": [
    "#Scale image\n",
    "import PIL\n",
    "from PIL import Image\n",
    "import os, sys\n",
    "path = \"pic\"\n",
    "dirs = (os.listdir(path))\n",
    "print (dirs)\n"
   ]
  },
  {
   "cell_type": "code",
   "execution_count": 2,
   "id": "5373921a",
   "metadata": {},
   "outputs": [],
   "source": [
    "#Scale image\n",
    "def resize():\n",
    "    for item in dirs:\n",
    "        img = Image.open('pic\\{}'.format(item))\n",
    "        img = img.resize((2560*2,828*2), Image.ANTIALIAS)\n",
    "        img.save('pic1\\{}'.format(item)) \n",
    "resize()"
   ]
  },
  {
   "cell_type": "code",
   "execution_count": null,
   "id": "19401985",
   "metadata": {},
   "outputs": [],
   "source": [
    "def resize_1():\n",
    "    print ('Input Image path:')\n",
    "    path = input()\n",
    "    img = Image.open('pic\\{}'.format(path))\n",
    "    img = img.resize((2560*2,828*2), Image.ANTIALIAS)\n",
    "    img.save('pic1\\{}'.format(item)) "
   ]
  },
  {
   "cell_type": "code",
   "execution_count": 3,
   "id": "9f8b36ce",
   "metadata": {},
   "outputs": [],
   "source": [
    "import numpy as np\n",
    "import cv2\n",
    "import matplotlib.pyplot as plt"
   ]
  },
  {
   "cell_type": "code",
   "execution_count": 4,
   "id": "e3f74096",
   "metadata": {},
   "outputs": [
    {
     "name": "stdout",
     "output_type": "stream",
     "text": [
      "<class 'numpy.ndarray'>\n",
      "(828, 2560)\n"
     ]
    },
    {
     "data": {
      "image/png": "[encoded data removed]",
      "text/plain": [
       "<Figure size 432x288 with 1 Axes>"
      ]
     },
     "metadata": {
      "needs_background": "light"
     },
     "output_type": "display_data"
    }
   ],
   "source": [
    "img = cv2.imread('sample.png',0)\n",
    "print(type(img))\n",
    "print(img.shape)\n",
    "plt.imshow(img, cmap='gray')\n",
    "plt.show()"
   ]
  },
  {
   "cell_type": "code",
   "execution_count": 8,
   "id": "9e054b37",
   "metadata": {},
   "outputs": [
    {
     "ename": "ValueError",
     "evalue": "not enough values to unpack (expected 3, got 2)",
     "output_type": "error",
     "traceback": [
      "\u001b[1;31m---------------------------------------------------------------------------\u001b[0m",
      "\u001b[1;31mValueError\u001b[0m                                Traceback (most recent call last)",
      "\u001b[1;32m~\\AppData\\Local\\Temp/ipykernel_31264/2191876023.py\u001b[0m in \u001b[0;36m<module>\u001b[1;34m\u001b[0m\n\u001b[1;32m----> 1\u001b[1;33m \u001b[1;33m(\u001b[0m\u001b[0mh\u001b[0m\u001b[1;33m,\u001b[0m \u001b[0mw\u001b[0m\u001b[1;33m,\u001b[0m \u001b[0md\u001b[0m\u001b[1;33m)\u001b[0m \u001b[1;33m=\u001b[0m \u001b[0mimg\u001b[0m\u001b[1;33m.\u001b[0m\u001b[0mshape\u001b[0m\u001b[1;33m\u001b[0m\u001b[1;33m\u001b[0m\u001b[0m\n\u001b[0m\u001b[0;32m      2\u001b[0m \u001b[0mprint\u001b[0m\u001b[1;33m(\u001b[0m\u001b[1;34m\"width={}, height={}, depth{}\"\u001b[0m\u001b[1;33m.\u001b[0m\u001b[0mformat\u001b[0m\u001b[1;33m(\u001b[0m\u001b[0mw\u001b[0m\u001b[1;33m,\u001b[0m \u001b[0mh\u001b[0m\u001b[1;33m,\u001b[0m \u001b[0md\u001b[0m\u001b[1;33m)\u001b[0m\u001b[1;33m)\u001b[0m\u001b[1;33m\u001b[0m\u001b[1;33m\u001b[0m\u001b[0m\n",
      "\u001b[1;31mValueError\u001b[0m: not enough values to unpack (expected 3, got 2)"
     ]
    }
   ],
   "source": [
    "(h, w, d) = img.shape\n",
    "print(\"width={}, height={}, depth{}\".format(w, h, d))"
   ]
  },
  {
   "cell_type": "code",
   "execution_count": 7,
   "id": "3711d8b8",
   "metadata": {},
   "outputs": [
    {
     "data": {
      "image/png": "[encoded data removed]",
      "text/plain": [
       "<Figure size 432x288 with 1 Axes>"
      ]
     },
     "metadata": {
      "needs_background": "light"
     },
     "output_type": "display_data"
    }
   ],
   "source": [
    "import matplotlib.pyplot as plt\n",
    "import numpy as np\n",
    "\n",
    "#day one, the age and speed of 13 cars:\n",
    "x = np.array([5,7,8,7,2,17,2,9,4,11,12,9,6])\n",
    "y = np.array([99,86,87,88,111,86,103,87,94,78,77,85,86])\n",
    "plt.scatter(x, y)\n",
    "\n",
    "#day two, the age and speed of 15 cars:\n",
    "x = np.array([2,2,8,1,15,8,12,9,7,3,11,4,7,14,12])\n",
    "y = np.array([100,105,84,105,90,99,90,95,94,100,79,112,91,80,85])\n",
    "plt.scatter(x, y)\n",
    "\n",
    "plt.show() "
   ]
  },
  {
   "cell_type": "code",
   "execution_count": 33,
   "id": "15d1c49b",
   "metadata": {},
   "outputs": [
    {
     "data": {
      "image/png": "[encoded data removed]",
      "text/plain": [
       "<Figure size 432x288 with 1 Axes>"
      ]
     },
     "metadata": {
      "needs_background": "light"
     },
     "output_type": "display_data"
    }
   ],
   "source": [
    "import matplotlib.pyplot as plt\n",
    "import numpy as np\n",
    "\n",
    "xpoints = np.array([0, 6])\n",
    "ypoints = np.array([0, 250])\n",
    "\n",
    "plt.plot(xpoints, ypoints)\n",
    "plt.show()"
   ]
  }
 ],
 "metadata": {
  "kernelspec": {
   "display_name": "Python 3 (ipykernel)",
   "language": "python",
   "name": "python3"
  },
  "language_info": {
   "codemirror_mode": {
    "name": "ipython",
    "version": 3
   },
   "file_extension": ".py",
   "mimetype": "text/x-python",
   "name": "python",
   "nbconvert_exporter": "python",
   "pygments_lexer": "ipython3",
   "version": "3.9.7"
  }
 },
 "nbformat": 4,
 "nbformat_minor": 5
}
